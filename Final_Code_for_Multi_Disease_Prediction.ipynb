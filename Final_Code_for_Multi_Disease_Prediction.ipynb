{
  "cells": [
    {
      "cell_type": "code",
      "execution_count": null,
      "metadata": {
        "id": "K5mI2VZCSMqw"
      },
      "outputs": [],
      "source": [
        "import pandas as pd\n",
        "\n",
        "diabetes_df = pd.read_csv(\"/content/Diabetes Disease Analysis.csv\")\n",
        "heart_df = pd.read_csv(\"/content/Heart Disease Analysis.csv\")\n",
        "liver_df = pd.read_csv(\"/content/Liver Disease Analysis.csv\")"
      ]
    },
    {
      "cell_type": "code",
      "execution_count": null,
      "metadata": {
        "id": "x21z7uMeYb2G"
      },
      "outputs": [],
      "source": [
        "liver_df[\"Gender\"] = liver_df[\"Gender\"].map({\"Male\": 1, \"Female\": 0})"
      ]
    },
    {
      "cell_type": "code",
      "execution_count": null,
      "metadata": {
        "id": "5FMZSN6KYk5k"
      },
      "outputs": [],
      "source": [
        "heart_df.rename(columns={\"age\": \"Age\", \"sex\": \"Gender\", \"target\": \"Heart_Disease\"}, inplace=True)\n",
        "diabetes_df.rename(columns={\"Outcome\": \"Diabetes\"}, inplace=True)\n",
        "liver_df.rename(columns={\"Dataset\": \"Liver_Disease\"}, inplace=True)"
      ]
    },
    {
      "cell_type": "code",
      "execution_count": null,
      "metadata": {
        "id": "aXEtkIg8YrFF"
      },
      "outputs": [],
      "source": [
        "liver_df[\"Liver_Disease\"] = liver_df[\"Liver_Disease\"].apply(lambda x: 1 if x == 1 else 0)"
      ]
    },
    {
      "cell_type": "code",
      "execution_count": null,
      "metadata": {
        "id": "VMVFxZFZYyuO"
      },
      "outputs": [],
      "source": [
        "diabetes_df[\"Gender\"] = -1\n",
        "\n",
        "diabetes_df = diabetes_df[['Age', 'Gender'] + [col for col in diabetes_df.columns if col not in ['Age', 'Gender']]]"
      ]
    },
    {
      "cell_type": "code",
      "execution_count": null,
      "metadata": {
        "id": "phIqC6gkY2sD"
      },
      "outputs": [],
      "source": [
        "merged_df = pd.merge(diabetes_df, heart_df, on=[\"Age\", \"Gender\"], how=\"outer\")\n",
        "merged_df = pd.merge(merged_df, liver_df, on=[\"Age\", \"Gender\"], how=\"outer\")"
      ]
    },
    {
      "cell_type": "code",
      "execution_count": null,
      "metadata": {
        "id": "TxYJA_e2Y5gH"
      },
      "outputs": [],
      "source": [
        "merged_df.fillna(-1, inplace=True)"
      ]
    },
    {
      "cell_type": "code",
      "execution_count": null,
      "metadata": {
        "id": "We6wSi3OT-o4"
      },
      "outputs": [],
      "source": [
        "from sklearn.preprocessing import MinMaxScaler\n",
        "\n",
        "scaler = MinMaxScaler()\n",
        "columns_to_normalize = [col for col in merged_df.columns if col not in [\"Age\", \"Gender\", \"Diabetes\", \"Heart_Disease\", \"Liver_Disease\"]]\n",
        "merged_df[columns_to_normalize] = scaler.fit_transform(merged_df[columns_to_normalize])"
      ]
    },
    {
      "cell_type": "code",
      "execution_count": null,
      "metadata": {
        "colab": {
          "base_uri": "https://localhost:8080/"
        },
        "id": "4y2CGsYbUqvf",
        "outputId": "070092f7-f533-4c56-fcbe-68d74b638333"
      },
      "outputs": [
        {
          "name": "stdout",
          "output_type": "stream",
          "text": [
            "Accuracy for Diabetes: 0.97\n",
            "Accuracy for Heart_Disease: 1.00\n",
            "Accuracy for Liver_Disease: 0.99\n"
          ]
        }
      ],
      "source": [
        "import numpy as np\n",
        "import joblib\n",
        "from sklearn.model_selection import train_test_split\n",
        "from sklearn.ensemble import RandomForestClassifier\n",
        "from sklearn.metrics import accuracy_score, classification_report\n",
        "\n",
        "df = merged_df\n",
        "\n",
        "target_columns = [\"Diabetes\", \"Heart_Disease\", \"Liver_Disease\"]\n",
        "\n",
        "X = df.drop(columns=[\"Diabetes\", \"Heart_Disease\", \"Liver_Disease\"])\n",
        "Y = df[target_columns]\n",
        "\n",
        "X_train, X_test, Y_train, Y_test = train_test_split(X, Y, test_size=0.2, random_state=42)\n",
        "\n",
        "models = {}\n",
        "for disease in target_columns:\n",
        "    model = RandomForestClassifier(n_estimators=100, random_state=42)\n",
        "    model.fit(X_train, Y_train[disease])\n",
        "    models[disease] = model\n",
        "    joblib.dump(model, f\"{disease}_model.pkl\")\n",
        "\n",
        "for disease, model in models.items():\n",
        "    Y_pred = model.predict(X_test)\n",
        "    acc = accuracy_score(Y_test[disease], Y_pred)\n",
        "    print(f\"Accuracy for {disease}: {acc:.2f}\")"
      ]
    },
    {
      "cell_type": "code",
      "execution_count": null,
      "metadata": {
        "colab": {
          "base_uri": "https://localhost:8080/"
        },
        "id": "WZazaEAdeFCT",
        "outputId": "9cdf21aa-642b-4ea1-d188-c613a958c6ea"
      },
      "outputs": [
        {
          "data": {
            "text/plain": [
              "['feature_columns.pkl']"
            ]
          },
          "execution_count": 35,
          "metadata": {},
          "output_type": "execute_result"
        }
      ],
      "source": [
        "import joblib\n",
        "\n",
        "# Save feature names\n",
        "joblib.dump(X.columns.tolist(), \"feature_columns.pkl\")\n"
      ]
    },
    {
      "cell_type": "code",
      "execution_count": null,
      "metadata": {
        "colab": {
          "base_uri": "https://localhost:8080/"
        },
        "id": "RG6kYLABV_y2",
        "outputId": "ffa2cae8-bd3e-40c5-f0d2-f79323848632"
      },
      "outputs": [
        {
          "name": "stdout",
          "output_type": "stream",
          "text": [
            "\n",
            "Predicted Diseases for New Patient: {'Diabetes': 1.0, 'Heart_Disease': 0.0, 'Liver_Disease': 1.0}\n"
          ]
        }
      ],
      "source": [
        "import pandas as pd\n",
        "\n",
        "def predict_diseases(patient_data):\n",
        "\n",
        "    try:\n",
        "        feature_columns = [col for col in X.columns if col not in target_columns]  # Exclude target columns\n",
        "        if len(patient_data) != len(feature_columns):\n",
        "            return {\"error\": f\"Expected {len(feature_columns)} features, but got {len(patient_data)}\"}\n",
        "\n",
        "        patient_df = pd.DataFrame([patient_data], columns=feature_columns)\n",
        "        predictions = {disease: models[disease].predict(patient_df)[0] for disease in target_columns}\n",
        "        return predictions\n",
        "    except Exception as e:\n",
        "        return {\"error\": str(e)}\n",
        "\n",
        "# Example usage (Replace values with actual patient data)\n",
        "new_patient = [30, 1, 5, 120, 70, 30, 120, 25, 0.5, 0.6, 190, 1, 2.5, 1, 250, 40, 30, 6, 4, 1.5, 0.8, 90, 3, 0, 130, 7.2, 5, 2.8]  # Example input with 28 features\n",
        "predicted_diseases = predict_diseases(new_patient)\n",
        "print(\"\\nPredicted Diseases for New Patient:\", predicted_diseases)\n"
      ]
    }
  ],
  "metadata": {
    "colab": {
      "provenance": []
    },
    "kernelspec": {
      "display_name": "Python 3",
      "name": "python3"
    },
    "language_info": {
      "name": "python"
    }
  },
  "nbformat": 4,
  "nbformat_minor": 0
}
